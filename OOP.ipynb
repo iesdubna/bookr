{
 "cells": [
  {
   "cell_type": "code",
   "execution_count": 1,
   "id": "ebfc5b2d",
   "metadata": {},
   "outputs": [
    {
     "name": "stdout",
     "output_type": "stream",
     "text": [
      "139690793408352\n",
      "139690793408256\n",
      "3\n",
      "7\n",
      "-1\n"
     ]
    }
   ],
   "source": [
    "class A:\n",
    "    def __init__(self, a, b):\n",
    "        self.first = a\n",
    "        self.second = b\n",
    "    def sum(self):\n",
    "        return self.first + self.second\n",
    "class B(A):\n",
    "    def diff(self):\n",
    "        return self.first - self.second\n",
    "    \n",
    "x = A(1, 2)\n",
    "y = A(3, 4)\n",
    "z = B(5, 6)\n",
    "print(id(x))\n",
    "print(id(y))\n",
    "print(x.sum())\n",
    "print(y.sum())\n",
    "print(z.diff())\n",
    "\n",
    "    "
   ]
  },
  {
   "cell_type": "code",
   "execution_count": 2,
   "id": "39999fe3",
   "metadata": {},
   "outputs": [],
   "source": [
    "class Figure:\n",
    "    def __init__(self):\n",
    "        self.painted = False\n",
    "        self.color = \"Unknown\"\n",
    "        \n",
    "    def paint(self, color):\n",
    "        self.painted = True\n",
    "        self.color = color\n",
    "        \n",
    "    def area(self):\n",
    "        raise Exeption(\"Unknown\")\n",
    "        \n",
    "class Circle(Figure):\n",
    "    def __init__(self, r):\n",
    "        super().__init__()\n",
    "        self.r = r\n",
    "        \n",
    "    def area(self):\n",
    "        return 3,14 * self.r * self.r\n",
    "\n",
    "class Rectangle(Figure):\n",
    "    def __init__(self, a, b):\n",
    "        super().__init__()\n",
    "        self.a = a\n",
    "        self.b = b\n",
    "        \n",
    "    def area(self):\n",
    "        return self.a * self.b\n",
    "\n",
    "class Square(Rectangle):\n",
    "    def __init__(self,a):\n",
    "        super().__init__(a,a)\n",
    "\n"
   ]
  },
  {
   "cell_type": "code",
   "execution_count": null,
   "id": "bf3ec490",
   "metadata": {},
   "outputs": [],
   "source": []
  }
 ],
 "metadata": {
  "kernelspec": {
   "display_name": "Python 3",
   "language": "python",
   "name": "python3"
  },
  "language_info": {
   "codemirror_mode": {
    "name": "ipython",
    "version": 3
   },
   "file_extension": ".py",
   "mimetype": "text/x-python",
   "name": "python",
   "nbconvert_exporter": "python",
   "pygments_lexer": "ipython3",
   "version": "3.8.5"
  }
 },
 "nbformat": 4,
 "nbformat_minor": 5
}
